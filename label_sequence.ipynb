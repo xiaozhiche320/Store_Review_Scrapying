{
 "cells": [
  {
   "cell_type": "code",
   "execution_count": 22,
   "metadata": {},
   "outputs": [],
   "source": [
    "import pandas as pd\n",
    "import numpy as np\n",
    "\n",
    "# 读取excel文件\n",
    "df = pd.read_excel(r\"C:\\Users\\WANGYILIN\\Desktop\\duolingo（results）.xlsx\", header=None)  # 你需要替换为你的Excel文件路径\n",
    "\n",
    "# 指定需要处理的列\n",
    "columns_to_process = [2]\n",
    "\n",
    "# 全局变量来记录序号\n",
    "global_counter = 0\n",
    "\n",
    "# 遍历每一列进行处理\n",
    "for col_idx in columns_to_process:\n",
    "    col_name = df.columns[col_idx]\n",
    "    \n",
    "    # 处理每个单元格\n",
    "    def process_cell(cell):\n",
    "        global global_counter\n",
    "        # 检查单元格是否为空，为空返回原始值，同时不递增序号\n",
    "        if pd.isnull(cell):\n",
    "            return cell\n",
    "\n",
    "        lines = str(cell).split('\\n')\n",
    "        new_lines = [f'{global_counter} {line.strip()}' for line in lines]\n",
    "        \n",
    "        # 处理完一个单元格后，序号+1\n",
    "        global_counter += 1\n",
    "\n",
    "        return '\\n'.join(new_lines)\n",
    "    \n",
    "    df[col_name] = df[col_name].apply(process_cell)\n",
    "\n",
    "# 将处理后的dataframe写入新的excel文件\n",
    "df.to_excel(r'C:\\Users\\WANGYILIN\\Desktop\\duolingo（results2）.xlsx', index=False)\n"
   ]
  },
  {
   "cell_type": "code",
   "execution_count": null,
   "metadata": {},
   "outputs": [],
   "source": []
  }
 ],
 "metadata": {
  "kernelspec": {
   "display_name": "base",
   "language": "python",
   "name": "python3"
  },
  "language_info": {
   "codemirror_mode": {
    "name": "ipython",
    "version": 3
   },
   "file_extension": ".py",
   "mimetype": "text/x-python",
   "name": "python",
   "nbconvert_exporter": "python",
   "pygments_lexer": "ipython3",
   "version": "3.9.12"
  },
  "orig_nbformat": 4
 },
 "nbformat": 4,
 "nbformat_minor": 2
}
